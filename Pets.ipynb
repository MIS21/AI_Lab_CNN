{
  "cells": [
    {
      "cell_type": "markdown",
      "metadata": {
        "id": "t6t6bqEVQ3nI"
      },
      "source": [
        "# Классификация Oxford Pets\n",
        "\n",
        "Обучим сеть для классификации исходного датасета [Oxford-IIIT Dataset](https://www.robots.ox.ac.uk/~vgg/data/pets/). Загрузите датасет с Kaggle."
      ]
    },
    {
      "cell_type": "code",
      "source": [
        "import os\n",
        "from google.colab import files\n",
        "import zipfile\n",
        "import matplotlib.pyplot as plt\n",
        "from PIL import Image\n",
        "import numpy as np\n",
        "import shutil\n",
        "from tensorflow.keras.preprocessing.image import ImageDataGenerator\n",
        "from tensorflow.keras.applications import VGG16, VGG19, ResNet50\n",
        "from tensorflow.keras.models import Model\n",
        "from tensorflow.keras.optimizers import Adam\n",
        "from sklearn.metrics import accuracy_score, confusion_matrix\n",
        "from tensorflow.keras.preprocessing.image import load_img\n",
        "import seaborn as sns\n",
        "from tensorflow.keras.layers import Dense, Flatten, GlobalAveragePooling2D"
      ],
      "metadata": {
        "id": "k8Tab3ooohG6"
      },
      "execution_count": 1,
      "outputs": []
    },
    {
      "cell_type": "code",
      "source": [
        "# Установка kaggle\n",
        "!pip install -q kaggle\n",
        "\n",
        "# Создание директории для kaggle.json\n",
        "!mkdir -p ~/.kaggle\n",
        "\n",
        "# Загрузка kaggle.json\n",
        "print(\"Загрузить kaggle.json файл.\")\n",
        "uploaded = files.upload()\n",
        "\n",
        "# Перемещение kaggle.json в правильную директорию\n",
        "!mv kaggle.json ~/.kaggle/\n",
        "\n",
        "# Установка правильных разрешений\n",
        "!chmod 600 ~/.kaggle/kaggle.json\n",
        "\n",
        "# Загрузка датасета\n",
        "!kaggle datasets download -d tanlikesmath/the-oxfordiiit-pet-dataset\n",
        "\n",
        "# Распаковка датасета\n",
        "with zipfile.ZipFile(\"the-oxfordiiit-pet-dataset.zip\", 'r') as zip_ref:\n",
        "    zip_ref.extractall(\"oxford-iiit-pet\")\n",
        "\n",
        "print(\"Датасет успешно загружен и распакован в директорию 'oxford-iiit-pet'\")\n",
        "\n",
        "# Вывод списка файлов в распакованной директории\n",
        "print(\"\\nСодержимое директории 'oxford-iiit-pet':\")\n",
        "!ls oxford-iiit-pet"
      ],
      "metadata": {
        "colab": {
          "base_uri": "https://localhost:8080/",
          "height": 246
        },
        "id": "Al-8DtDhVEvo",
        "outputId": "56d4837d-fe6e-403d-d59f-06be3b1460da"
      },
      "execution_count": 2,
      "outputs": [
        {
          "output_type": "stream",
          "name": "stdout",
          "text": [
            "Загрузить kaggle.json файл.\n"
          ]
        },
        {
          "output_type": "display_data",
          "data": {
            "text/plain": [
              "<IPython.core.display.HTML object>"
            ],
            "text/html": [
              "\n",
              "     <input type=\"file\" id=\"files-b48cfc8a-44c6-49cb-805c-b41b8520d07e\" name=\"files[]\" multiple disabled\n",
              "        style=\"border:none\" />\n",
              "     <output id=\"result-b48cfc8a-44c6-49cb-805c-b41b8520d07e\">\n",
              "      Upload widget is only available when the cell has been executed in the\n",
              "      current browser session. Please rerun this cell to enable.\n",
              "      </output>\n",
              "      <script>// Copyright 2017 Google LLC\n",
              "//\n",
              "// Licensed under the Apache License, Version 2.0 (the \"License\");\n",
              "// you may not use this file except in compliance with the License.\n",
              "// You may obtain a copy of the License at\n",
              "//\n",
              "//      http://www.apache.org/licenses/LICENSE-2.0\n",
              "//\n",
              "// Unless required by applicable law or agreed to in writing, software\n",
              "// distributed under the License is distributed on an \"AS IS\" BASIS,\n",
              "// WITHOUT WARRANTIES OR CONDITIONS OF ANY KIND, either express or implied.\n",
              "// See the License for the specific language governing permissions and\n",
              "// limitations under the License.\n",
              "\n",
              "/**\n",
              " * @fileoverview Helpers for google.colab Python module.\n",
              " */\n",
              "(function(scope) {\n",
              "function span(text, styleAttributes = {}) {\n",
              "  const element = document.createElement('span');\n",
              "  element.textContent = text;\n",
              "  for (const key of Object.keys(styleAttributes)) {\n",
              "    element.style[key] = styleAttributes[key];\n",
              "  }\n",
              "  return element;\n",
              "}\n",
              "\n",
              "// Max number of bytes which will be uploaded at a time.\n",
              "const MAX_PAYLOAD_SIZE = 100 * 1024;\n",
              "\n",
              "function _uploadFiles(inputId, outputId) {\n",
              "  const steps = uploadFilesStep(inputId, outputId);\n",
              "  const outputElement = document.getElementById(outputId);\n",
              "  // Cache steps on the outputElement to make it available for the next call\n",
              "  // to uploadFilesContinue from Python.\n",
              "  outputElement.steps = steps;\n",
              "\n",
              "  return _uploadFilesContinue(outputId);\n",
              "}\n",
              "\n",
              "// This is roughly an async generator (not supported in the browser yet),\n",
              "// where there are multiple asynchronous steps and the Python side is going\n",
              "// to poll for completion of each step.\n",
              "// This uses a Promise to block the python side on completion of each step,\n",
              "// then passes the result of the previous step as the input to the next step.\n",
              "function _uploadFilesContinue(outputId) {\n",
              "  const outputElement = document.getElementById(outputId);\n",
              "  const steps = outputElement.steps;\n",
              "\n",
              "  const next = steps.next(outputElement.lastPromiseValue);\n",
              "  return Promise.resolve(next.value.promise).then((value) => {\n",
              "    // Cache the last promise value to make it available to the next\n",
              "    // step of the generator.\n",
              "    outputElement.lastPromiseValue = value;\n",
              "    return next.value.response;\n",
              "  });\n",
              "}\n",
              "\n",
              "/**\n",
              " * Generator function which is called between each async step of the upload\n",
              " * process.\n",
              " * @param {string} inputId Element ID of the input file picker element.\n",
              " * @param {string} outputId Element ID of the output display.\n",
              " * @return {!Iterable<!Object>} Iterable of next steps.\n",
              " */\n",
              "function* uploadFilesStep(inputId, outputId) {\n",
              "  const inputElement = document.getElementById(inputId);\n",
              "  inputElement.disabled = false;\n",
              "\n",
              "  const outputElement = document.getElementById(outputId);\n",
              "  outputElement.innerHTML = '';\n",
              "\n",
              "  const pickedPromise = new Promise((resolve) => {\n",
              "    inputElement.addEventListener('change', (e) => {\n",
              "      resolve(e.target.files);\n",
              "    });\n",
              "  });\n",
              "\n",
              "  const cancel = document.createElement('button');\n",
              "  inputElement.parentElement.appendChild(cancel);\n",
              "  cancel.textContent = 'Cancel upload';\n",
              "  const cancelPromise = new Promise((resolve) => {\n",
              "    cancel.onclick = () => {\n",
              "      resolve(null);\n",
              "    };\n",
              "  });\n",
              "\n",
              "  // Wait for the user to pick the files.\n",
              "  const files = yield {\n",
              "    promise: Promise.race([pickedPromise, cancelPromise]),\n",
              "    response: {\n",
              "      action: 'starting',\n",
              "    }\n",
              "  };\n",
              "\n",
              "  cancel.remove();\n",
              "\n",
              "  // Disable the input element since further picks are not allowed.\n",
              "  inputElement.disabled = true;\n",
              "\n",
              "  if (!files) {\n",
              "    return {\n",
              "      response: {\n",
              "        action: 'complete',\n",
              "      }\n",
              "    };\n",
              "  }\n",
              "\n",
              "  for (const file of files) {\n",
              "    const li = document.createElement('li');\n",
              "    li.append(span(file.name, {fontWeight: 'bold'}));\n",
              "    li.append(span(\n",
              "        `(${file.type || 'n/a'}) - ${file.size} bytes, ` +\n",
              "        `last modified: ${\n",
              "            file.lastModifiedDate ? file.lastModifiedDate.toLocaleDateString() :\n",
              "                                    'n/a'} - `));\n",
              "    const percent = span('0% done');\n",
              "    li.appendChild(percent);\n",
              "\n",
              "    outputElement.appendChild(li);\n",
              "\n",
              "    const fileDataPromise = new Promise((resolve) => {\n",
              "      const reader = new FileReader();\n",
              "      reader.onload = (e) => {\n",
              "        resolve(e.target.result);\n",
              "      };\n",
              "      reader.readAsArrayBuffer(file);\n",
              "    });\n",
              "    // Wait for the data to be ready.\n",
              "    let fileData = yield {\n",
              "      promise: fileDataPromise,\n",
              "      response: {\n",
              "        action: 'continue',\n",
              "      }\n",
              "    };\n",
              "\n",
              "    // Use a chunked sending to avoid message size limits. See b/62115660.\n",
              "    let position = 0;\n",
              "    do {\n",
              "      const length = Math.min(fileData.byteLength - position, MAX_PAYLOAD_SIZE);\n",
              "      const chunk = new Uint8Array(fileData, position, length);\n",
              "      position += length;\n",
              "\n",
              "      const base64 = btoa(String.fromCharCode.apply(null, chunk));\n",
              "      yield {\n",
              "        response: {\n",
              "          action: 'append',\n",
              "          file: file.name,\n",
              "          data: base64,\n",
              "        },\n",
              "      };\n",
              "\n",
              "      let percentDone = fileData.byteLength === 0 ?\n",
              "          100 :\n",
              "          Math.round((position / fileData.byteLength) * 100);\n",
              "      percent.textContent = `${percentDone}% done`;\n",
              "\n",
              "    } while (position < fileData.byteLength);\n",
              "  }\n",
              "\n",
              "  // All done.\n",
              "  yield {\n",
              "    response: {\n",
              "      action: 'complete',\n",
              "    }\n",
              "  };\n",
              "}\n",
              "\n",
              "scope.google = scope.google || {};\n",
              "scope.google.colab = scope.google.colab || {};\n",
              "scope.google.colab._files = {\n",
              "  _uploadFiles,\n",
              "  _uploadFilesContinue,\n",
              "};\n",
              "})(self);\n",
              "</script> "
            ]
          },
          "metadata": {}
        },
        {
          "output_type": "stream",
          "name": "stdout",
          "text": [
            "Saving kaggle.json to kaggle.json\n",
            "Dataset URL: https://www.kaggle.com/datasets/tanlikesmath/the-oxfordiiit-pet-dataset\n",
            "License(s): CC-BY-SA-4.0\n",
            "Downloading the-oxfordiiit-pet-dataset.zip to /content\n",
            " 99% 1.46G/1.48G [00:20<00:00, 125MB/s]\n",
            "100% 1.48G/1.48G [00:20<00:00, 76.6MB/s]\n",
            "Датасет успешно загружен и распакован в директорию 'oxford-iiit-pet'\n",
            "\n",
            "Содержимое директории 'oxford-iiit-pet':\n",
            "images\n"
          ]
        }
      ]
    },
    {
      "cell_type": "markdown",
      "metadata": {
        "id": "rn4UHKYdQ3nK"
      },
      "source": [
        "Для визуализации изображений используйте функцию:"
      ]
    },
    {
      "cell_type": "code",
      "execution_count": 3,
      "metadata": {
        "id": "iIdLBNGWQ3nK"
      },
      "outputs": [],
      "source": [
        "def display_images(l,titles=None,fontsize=12):\n",
        "    n=len(l)\n",
        "    fig,ax = plt.subplots(1,n)\n",
        "    for i,im in enumerate(l):\n",
        "        ax[i].imshow(im)\n",
        "        ax[i].axis('off')\n",
        "        if titles is not None:\n",
        "            ax[i].set_title(titles[i],fontsize=fontsize)\n",
        "    fig.set_size_inches(fig.get_size_inches()*n)\n",
        "    plt.tight_layout()\n",
        "    plt.show()"
      ]
    },
    {
      "cell_type": "code",
      "source": [
        "len(os.listdir('oxford-iiit-pet/images'))"
      ],
      "metadata": {
        "colab": {
          "base_uri": "https://localhost:8080/"
        },
        "id": "LWaXs9aLjLN2",
        "outputId": "afce95a1-96b9-40ca-c683-ca9c82d10c07"
      },
      "execution_count": 4,
      "outputs": [
        {
          "output_type": "execute_result",
          "data": {
            "text/plain": [
              "7394"
            ]
          },
          "metadata": {},
          "execution_count": 4
        }
      ]
    },
    {
      "cell_type": "code",
      "source": [
        "# Путь к папке с изображениями\n",
        "source_folder = 'oxford-iiit-pet/images'\n",
        "# Папка, в которую будут перемещены изображения по классам\n",
        "destination_folder = 'oxford-iiit-pet/organized_images'\n",
        "\n",
        "# Создаем папку для организованных изображений, если она не существует\n",
        "if not os.path.exists(destination_folder):\n",
        "    os.makedirs(destination_folder)\n",
        "\n",
        "# Перебираем все файлы в исходной папке\n",
        "for filename in os.listdir(source_folder):\n",
        "    if filename.endswith(('.jpg', '.jpeg', '.png')):\n",
        "        # Определяем класс по имени файла\n",
        "        class_name = filename.split('_')[0]\n",
        "        class_folder = os.path.join(destination_folder, class_name)\n",
        "\n",
        "        # Создаем директорию для класса, если она не существует\n",
        "        if not os.path.exists(class_folder):\n",
        "            os.makedirs(class_folder)\n",
        "\n",
        "        # Перемещаем файл в папку соответствующего класса\n",
        "        source_path = os.path.join(source_folder, filename)\n",
        "        destination_path = os.path.join(class_folder, filename)\n",
        "        shutil.move(source_path, destination_path)\n",
        "\n",
        "print(\"Изображения успешно организованы по классам.\")"
      ],
      "metadata": {
        "colab": {
          "base_uri": "https://localhost:8080/"
        },
        "id": "Cw-vplOZrgbq",
        "outputId": "f7997b18-adc2-4ba4-afdb-f5c108729f8c"
      },
      "execution_count": 5,
      "outputs": [
        {
          "output_type": "stream",
          "name": "stdout",
          "text": [
            "Изображения успешно организованы по классам.\n"
          ]
        }
      ]
    },
    {
      "cell_type": "code",
      "source": [
        "path_to_dataset = 'oxford-iiit-pet/organized_images'"
      ],
      "metadata": {
        "id": "34D9are0o6VJ"
      },
      "execution_count": 6,
      "outputs": []
    },
    {
      "cell_type": "code",
      "source": [
        "# Создание генераторов для train, val и test\n",
        "train_datagen = ImageDataGenerator(rescale=1./255,\n",
        "                                    shear_range=0.2,\n",
        "                                    zoom_range=0.2,\n",
        "                                    horizontal_flip=True,\n",
        "                                    validation_split=0.2)\n",
        "\n",
        "test_datagen = ImageDataGenerator(rescale=1./255)\n",
        "\n",
        "train_generator = train_datagen.flow_from_directory(path_to_dataset,\n",
        "                                                    target_size=(224, 224),\n",
        "                                                    batch_size=32,\n",
        "                                                    class_mode='categorical',\n",
        "                                                    subset='training')\n",
        "\n",
        "val_generator = train_datagen.flow_from_directory(path_to_dataset,\n",
        "                                                  target_size=(224, 224),\n",
        "                                                  batch_size=32,\n",
        "                                                  class_mode='categorical',\n",
        "                                                  subset='validation')\n",
        "\n",
        "test_generator = test_datagen.flow_from_directory(path_to_dataset,\n",
        "                                                  target_size=(224, 224),\n",
        "                                                  batch_size=32,\n",
        "                                                  class_mode='categorical')"
      ],
      "metadata": {
        "colab": {
          "base_uri": "https://localhost:8080/"
        },
        "id": "lniIhwT3Tk3p",
        "outputId": "4c83ee99-6df0-4afd-e466-a22a0a847b57"
      },
      "execution_count": 14,
      "outputs": [
        {
          "output_type": "stream",
          "name": "stdout",
          "text": [
            "Found 5913 images belonging to 35 classes.\n",
            "Found 1477 images belonging to 35 classes.\n",
            "Found 7390 images belonging to 35 classes.\n"
          ]
        }
      ]
    },
    {
      "cell_type": "code",
      "source": [
        "# Загрузка предобученной сети VGG-16\n",
        "base_model = VGG16(weights='imagenet', include_top=False, input_shape=(224, 224, 3))\n",
        "\n",
        "# Замораживание весов предобученной сети\n",
        "base_model.trainable = False\n",
        "\n",
        "# Создание классификатора\n",
        "x = base_model.output\n",
        "x = Flatten()(x)\n",
        "x = Dense(128, activation='relu')(x)\n",
        "x = Dense(len(train_generator.class_indices), activation='softmax')(x)\n",
        "\n",
        "model = Model(inputs=base_model.input, outputs=x)\n",
        "\n",
        "# Компиляция модели\n",
        "model.compile(optimizer=Adam(learning_rate=0.001),\n",
        "              loss='categorical_crossentropy',\n",
        "              metrics=['accuracy'])\n",
        "\n",
        "# Обучение модели\n",
        "history = model.fit(train_generator,\n",
        "                    epochs=10,\n",
        "                    validation_data=val_generator)\n",
        "\n",
        "\n",
        "\n"
      ],
      "metadata": {
        "colab": {
          "base_uri": "https://localhost:8080/"
        },
        "id": "SDNo274_pIWa",
        "outputId": "34c9db77-d983-4945-8d88-96e4c4f0a004"
      },
      "execution_count": 8,
      "outputs": [
        {
          "metadata": {
            "tags": null
          },
          "name": "stdout",
          "output_type": "stream",
          "text": [
            "Downloading data from https://storage.googleapis.com/tensorflow/keras-applications/vgg16/vgg16_weights_tf_dim_ordering_tf_kernels_notop.h5\n",
            "\u001b[1m58889256/58889256\u001b[0m \u001b[32m━━━━━━━━━━━━━━━━━━━━\u001b[0m\u001b[37m\u001b[0m \u001b[1m0s\u001b[0m 0us/step\n",
            "Epoch 1/10\n"
          ]
        },
        {
          "metadata": {
            "tags": null
          },
          "name": "stderr",
          "output_type": "stream",
          "text": [
            "/usr/local/lib/python3.10/dist-packages/keras/src/trainers/data_adapters/py_dataset_adapter.py:121: UserWarning: Your `PyDataset` class should call `super().__init__(**kwargs)` in its constructor. `**kwargs` can include `workers`, `use_multiprocessing`, `max_queue_size`. Do not pass these arguments to `fit()`, as they will be ignored.\n",
            "  self._warn_if_super_not_called()\n"
          ]
        },
        {
          "output_type": "stream",
          "name": "stdout",
          "text": [
            "\u001b[1m185/185\u001b[0m \u001b[32m━━━━━━━━━━━━━━━━━━━━\u001b[0m\u001b[37m\u001b[0m \u001b[1m135s\u001b[0m 632ms/step - accuracy: 0.0674 - loss: 3.7942 - val_accuracy: 0.1469 - val_loss: 2.9696\n",
            "Epoch 2/10\n",
            "\u001b[1m185/185\u001b[0m \u001b[32m━━━━━━━━━━━━━━━━━━━━\u001b[0m\u001b[37m\u001b[0m \u001b[1m111s\u001b[0m 541ms/step - accuracy: 0.2210 - loss: 2.6668 - val_accuracy: 0.2722 - val_loss: 2.3720\n",
            "Epoch 3/10\n",
            "\u001b[1m185/185\u001b[0m \u001b[32m━━━━━━━━━━━━━━━━━━━━\u001b[0m\u001b[37m\u001b[0m \u001b[1m103s\u001b[0m 543ms/step - accuracy: 0.3288 - loss: 2.1461 - val_accuracy: 0.3399 - val_loss: 2.1156\n",
            "Epoch 4/10\n",
            "\u001b[1m185/185\u001b[0m \u001b[32m━━━━━━━━━━━━━━━━━━━━\u001b[0m\u001b[37m\u001b[0m \u001b[1m104s\u001b[0m 548ms/step - accuracy: 0.4073 - loss: 1.8734 - val_accuracy: 0.3521 - val_loss: 2.0235\n",
            "Epoch 5/10\n",
            "\u001b[1m185/185\u001b[0m \u001b[32m━━━━━━━━━━━━━━━━━━━━\u001b[0m\u001b[37m\u001b[0m \u001b[1m104s\u001b[0m 548ms/step - accuracy: 0.4507 - loss: 1.7137 - val_accuracy: 0.4103 - val_loss: 1.9146\n",
            "Epoch 6/10\n",
            "\u001b[1m185/185\u001b[0m \u001b[32m━━━━━━━━━━━━━━━━━━━━\u001b[0m\u001b[37m\u001b[0m \u001b[1m142s\u001b[0m 546ms/step - accuracy: 0.4707 - loss: 1.6098 - val_accuracy: 0.4265 - val_loss: 1.8531\n",
            "Epoch 7/10\n",
            "\u001b[1m185/185\u001b[0m \u001b[32m━━━━━━━━━━━━━━━━━━━━\u001b[0m\u001b[37m\u001b[0m \u001b[1m141s\u001b[0m 538ms/step - accuracy: 0.5060 - loss: 1.5192 - val_accuracy: 0.4177 - val_loss: 1.8675\n",
            "Epoch 8/10\n",
            "\u001b[1m185/185\u001b[0m \u001b[32m━━━━━━━━━━━━━━━━━━━━\u001b[0m\u001b[37m\u001b[0m \u001b[1m142s\u001b[0m 542ms/step - accuracy: 0.5512 - loss: 1.3981 - val_accuracy: 0.4313 - val_loss: 1.8349\n",
            "Epoch 9/10\n",
            "\u001b[1m185/185\u001b[0m \u001b[32m━━━━━━━━━━━━━━━━━━━━\u001b[0m\u001b[37m\u001b[0m \u001b[1m141s\u001b[0m 538ms/step - accuracy: 0.5524 - loss: 1.3674 - val_accuracy: 0.4394 - val_loss: 1.7409\n",
            "Epoch 10/10\n",
            "\u001b[1m185/185\u001b[0m \u001b[32m━━━━━━━━━━━━━━━━━━━━\u001b[0m\u001b[37m\u001b[0m \u001b[1m142s\u001b[0m 540ms/step - accuracy: 0.5701 - loss: 1.3045 - val_accuracy: 0.4604 - val_loss: 1.7298\n"
          ]
        }
      ]
    },
    {
      "cell_type": "code",
      "source": [
        "test_loss, test_acc = model.evaluate(test_generator)\n",
        "print(f'VGG-16 Test accuracy: {test_acc:.2f}')"
      ],
      "metadata": {
        "colab": {
          "base_uri": "https://localhost:8080/"
        },
        "id": "cZK6l_kxoQ8D",
        "outputId": "3cd00898-2c77-40be-b286-915e72c9c65c"
      },
      "execution_count": 9,
      "outputs": [
        {
          "output_type": "stream",
          "name": "stdout",
          "text": [
            "\u001b[1m231/231\u001b[0m \u001b[32m━━━━━━━━━━━━━━━━━━━━\u001b[0m\u001b[37m\u001b[0m \u001b[1m46s\u001b[0m 199ms/step - accuracy: 0.6002 - loss: 1.2282\n",
            "VGG-16 Test accuracy: 0.60\n"
          ]
        }
      ]
    },
    {
      "cell_type": "code",
      "source": [
        "# Загрузка предобученной сети VGG-19\n",
        "base_model = VGG19(weights='imagenet', include_top=False, input_shape=(224, 224, 3))\n",
        "\n",
        "# Замораживание весов предобученной сети\n",
        "base_model.trainable = False\n",
        "\n",
        "# Создание классификатора\n",
        "x = base_model.output\n",
        "x = Flatten()(x)\n",
        "x = Dense(128, activation='relu')(x)\n",
        "x = Dense(len(train_generator.class_indices), activation='softmax')(x)\n",
        "\n",
        "model2 = Model(inputs=base_model.input, outputs=x)\n",
        "\n",
        "# Компиляция модели\n",
        "model2.compile(optimizer=Adam(learning_rate=0.001),\n",
        "              loss='categorical_crossentropy',\n",
        "              metrics=['accuracy'])\n",
        "\n",
        "# Обучение модели\n",
        "history = model2.fit(train_generator,\n",
        "                    epochs=10,\n",
        "                    validation_data=val_generator)\n"
      ],
      "metadata": {
        "colab": {
          "base_uri": "https://localhost:8080/"
        },
        "id": "t1bekf4OC2YX",
        "outputId": "31e8ad54-1a2b-49bf-d4c3-e6efb88baa1a"
      },
      "execution_count": 10,
      "outputs": [
        {
          "output_type": "stream",
          "name": "stdout",
          "text": [
            "Downloading data from https://storage.googleapis.com/tensorflow/keras-applications/vgg19/vgg19_weights_tf_dim_ordering_tf_kernels_notop.h5\n",
            "\u001b[1m80134624/80134624\u001b[0m \u001b[32m━━━━━━━━━━━━━━━━━━━━\u001b[0m\u001b[37m\u001b[0m \u001b[1m0s\u001b[0m 0us/step\n",
            "Epoch 1/10\n",
            "\u001b[1m185/185\u001b[0m \u001b[32m━━━━━━━━━━━━━━━━━━━━\u001b[0m\u001b[37m\u001b[0m \u001b[1m111s\u001b[0m 573ms/step - accuracy: 0.0736 - loss: 3.7757 - val_accuracy: 0.1686 - val_loss: 2.9885\n",
            "Epoch 2/10\n",
            "\u001b[1m185/185\u001b[0m \u001b[32m━━━━━━━━━━━━━━━━━━━━\u001b[0m\u001b[37m\u001b[0m \u001b[1m106s\u001b[0m 554ms/step - accuracy: 0.2084 - loss: 2.7536 - val_accuracy: 0.2742 - val_loss: 2.4008\n",
            "Epoch 3/10\n",
            "\u001b[1m185/185\u001b[0m \u001b[32m━━━━━━━━━━━━━━━━━━━━\u001b[0m\u001b[37m\u001b[0m \u001b[1m142s\u001b[0m 558ms/step - accuracy: 0.3162 - loss: 2.1844 - val_accuracy: 0.3541 - val_loss: 2.1318\n",
            "Epoch 4/10\n",
            "\u001b[1m185/185\u001b[0m \u001b[32m━━━━━━━━━━━━━━━━━━━━\u001b[0m\u001b[37m\u001b[0m \u001b[1m142s\u001b[0m 562ms/step - accuracy: 0.4105 - loss: 1.8865 - val_accuracy: 0.3602 - val_loss: 2.0272\n",
            "Epoch 5/10\n",
            "\u001b[1m185/185\u001b[0m \u001b[32m━━━━━━━━━━━━━━━━━━━━\u001b[0m\u001b[37m\u001b[0m \u001b[1m105s\u001b[0m 554ms/step - accuracy: 0.4708 - loss: 1.6794 - val_accuracy: 0.3988 - val_loss: 1.9622\n",
            "Epoch 6/10\n",
            "\u001b[1m185/185\u001b[0m \u001b[32m━━━━━━━━━━━━━━━━━━━━\u001b[0m\u001b[37m\u001b[0m \u001b[1m104s\u001b[0m 552ms/step - accuracy: 0.5064 - loss: 1.5831 - val_accuracy: 0.4252 - val_loss: 1.8298\n",
            "Epoch 7/10\n",
            "\u001b[1m185/185\u001b[0m \u001b[32m━━━━━━━━━━━━━━━━━━━━\u001b[0m\u001b[37m\u001b[0m \u001b[1m105s\u001b[0m 555ms/step - accuracy: 0.5514 - loss: 1.4399 - val_accuracy: 0.3981 - val_loss: 1.9452\n",
            "Epoch 8/10\n",
            "\u001b[1m185/185\u001b[0m \u001b[32m━━━━━━━━━━━━━━━━━━━━\u001b[0m\u001b[37m\u001b[0m \u001b[1m161s\u001b[0m 657ms/step - accuracy: 0.5416 - loss: 1.4083 - val_accuracy: 0.4103 - val_loss: 1.9328\n",
            "Epoch 9/10\n",
            "\u001b[1m185/185\u001b[0m \u001b[32m━━━━━━━━━━━━━━━━━━━━\u001b[0m\u001b[37m\u001b[0m \u001b[1m126s\u001b[0m 662ms/step - accuracy: 0.5768 - loss: 1.3286 - val_accuracy: 0.4414 - val_loss: 1.8229\n",
            "Epoch 10/10\n",
            "\u001b[1m185/185\u001b[0m \u001b[32m━━━━━━━━━━━━━━━━━━━━\u001b[0m\u001b[37m\u001b[0m \u001b[1m106s\u001b[0m 553ms/step - accuracy: 0.6187 - loss: 1.2130 - val_accuracy: 0.4516 - val_loss: 1.7445\n"
          ]
        }
      ]
    },
    {
      "cell_type": "code",
      "source": [
        "test_loss, test_acc = model2.evaluate(test_generator)\n",
        "print(f'VGG-19 Test accuracy: {test_acc:.2f}')"
      ],
      "metadata": {
        "colab": {
          "base_uri": "https://localhost:8080/"
        },
        "id": "0zqiGeBKnzrf",
        "outputId": "1e1a9f65-7f55-4c6e-cf24-2d077a292223"
      },
      "execution_count": 11,
      "outputs": [
        {
          "output_type": "stream",
          "name": "stdout",
          "text": [
            "\u001b[1m231/231\u001b[0m \u001b[32m━━━━━━━━━━━━━━━━━━━━\u001b[0m\u001b[37m\u001b[0m \u001b[1m44s\u001b[0m 189ms/step - accuracy: 0.6569 - loss: 1.0751\n",
            "VGG-19 Test accuracy: 0.66\n"
          ]
        }
      ]
    },
    {
      "cell_type": "code",
      "source": [
        "# Загрузка предобученной сети ResNet-50\n",
        "base_model = ResNet50(weights='imagenet', include_top=False, input_shape=(224, 224, 3))\n",
        "\n",
        "# Замораживание весов предобученной сети\n",
        "base_model.trainable = False\n",
        "\n",
        "# Создание классификатора\n",
        "x = base_model.output\n",
        "x = GlobalAveragePooling2D()(x)\n",
        "x = Dense(128, activation='relu')(x)\n",
        "x = Dense(len(train_generator.class_indices), activation='softmax')(x)\n",
        "\n",
        "model3 = Model(inputs=base_model.input, outputs=x)\n",
        "\n",
        "# Компиляция модели\n",
        "model3.compile(optimizer=Adam(learning_rate=0.0001),\n",
        "              loss='categorical_crossentropy',\n",
        "              metrics=['accuracy'])\n",
        "\n",
        "# Обучение модели\n",
        "history = model3.fit(train_generator,\n",
        "                    epochs=10,\n",
        "                    validation_data=val_generator)\n",
        "\n"
      ],
      "metadata": {
        "colab": {
          "base_uri": "https://localhost:8080/"
        },
        "id": "ti7X3dNqDT-D",
        "outputId": "5415807f-189e-44f7-911d-5e6925e0ea1c"
      },
      "execution_count": null,
      "outputs": [
        {
          "output_type": "stream",
          "name": "stdout",
          "text": [
            "Epoch 1/10\n",
            "\u001b[1m185/185\u001b[0m \u001b[32m━━━━━━━━━━━━━━━━━━━━\u001b[0m\u001b[37m\u001b[0m \u001b[1m120s\u001b[0m 582ms/step - accuracy: 0.0385 - loss: 3.6220 - val_accuracy: 0.0542 - val_loss: 3.5350\n",
            "Epoch 2/10\n",
            "\u001b[1m120/185\u001b[0m \u001b[32m━━━━━━━━━━━━\u001b[0m\u001b[37m━━━━━━━━\u001b[0m \u001b[1m29s\u001b[0m 447ms/step - accuracy: 0.0611 - loss: 3.5290"
          ]
        }
      ]
    },
    {
      "cell_type": "code",
      "source": [
        "test_loss, test_acc = model3.evaluate(test_generator)\n",
        "print(f'ResNet Test accuracy: {test_acc:.2f}')\n",
        "\n"
      ],
      "metadata": {
        "colab": {
          "base_uri": "https://localhost:8080/"
        },
        "id": "AQbNDpOtDYAM",
        "outputId": "2974a3ec-92b9-40be-a31a-767a0dc5d1b3"
      },
      "execution_count": 13,
      "outputs": [
        {
          "output_type": "stream",
          "name": "stdout",
          "text": [
            "\u001b[1m231/231\u001b[0m \u001b[32m━━━━━━━━━━━━━━━━━━━━\u001b[0m\u001b[37m\u001b[0m \u001b[1m37s\u001b[0m 159ms/step - accuracy: 0.0814 - loss: 3.3212\n",
            "ResNet Test accuracy: 0.08\n"
          ]
        }
      ]
    },
    {
      "cell_type": "markdown",
      "source": [
        "Лучшие результаты test_accuracy показаны на сети с предобученной VGG19. Сеть с ResNet почти не обучается и показывает самые низкие результаты, изменение парамаетров не помогло"
      ],
      "metadata": {
        "id": "FPXKnv_DpkoK"
      }
    }
  ],
  "metadata": {
    "kernelspec": {
      "display_name": "Python 3",
      "name": "python3"
    },
    "language_info": {
      "name": "python"
    },
    "colab": {
      "provenance": [],
      "gpuType": "T4"
    },
    "accelerator": "GPU"
  },
  "nbformat": 4,
  "nbformat_minor": 0
}